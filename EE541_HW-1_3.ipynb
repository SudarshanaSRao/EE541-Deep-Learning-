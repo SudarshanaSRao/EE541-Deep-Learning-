{
 "cells": [
  {
   "cell_type": "code",
   "execution_count": 6,
   "metadata": {},
   "outputs": [
    {
     "name": "stdout",
     "output_type": "stream",
     "text": [
      "1 no0\n",
      "2 no2\n",
      "7\n",
      "1.000000195092221\n",
      "0.9999999999935771\n",
      "1.0\n"
     ]
    }
   ],
   "source": [
    "from func import f # Importing the .py file to access the function.\n",
    "\n",
    "def Secant_Method(f, a, b):\n",
    "    N = 0 # Counting the number of iterations.\n",
    "    x_n1 = a # Lower limit\n",
    "    x_n2 = b # Upper limit\n",
    "    e0 = (10**(-10)) # Convergence factor\n",
    "    err = 0.10 # Threshold error value.\n",
    "    while err >= e0:\n",
    "        N += 1\n",
    "        x_n = x_n1 - (f(x_n1) * ((x_n1 - x_n2) / (f(x_n1) - f(x_n2)))) # Inserting the equation.\n",
    "        err = abs(x_n - x_n1) # Checking the convergence.\n",
    "        if err >= e0:\n",
    "            # Updating the limits after each iteration if the error is greater than equal to the e0.\n",
    "            x_n2 = x_n1\n",
    "            x_n1 = x_n\n",
    "    # Printing the iteration counter along with the three root approximations.   \n",
    "    print(N)\n",
    "    print(x_n2)\n",
    "    print(x_n1)\n",
    "    print(x_n)\n",
    "    return\n",
    "\n",
    "# Asking for the user inputs.\n",
    "a = sys.argv[1]\n",
    "b = sys.argv[2]\n",
    "\n",
    "import sys # Importing the system specific functions.\n",
    "\n",
    "# Constraints verifier- verifying whether the inputs a & b are numbers.\n",
    "try:\n",
    "    a = float(a)\n",
    "except ValueError:\n",
    "    sys.stderr.write(\"Range error\")\n",
    "    sys.quit(1)\n",
    "\n",
    "try:\n",
    "    b = float(b)\n",
    "except ValueError:\n",
    "    sys.stderr.write(\"Range error\")\n",
    "    quit()\n",
    "    \n",
    "# Verifying whether a is the lower limit and b is the upper limit.\n",
    "if b <= a:\n",
    "    sys.stderr.write(\"Range error\")\n",
    "    quit()\n",
    "\n",
    "# Verifying whether the product of both functions are greater then 0.\n",
    "if f(a) * f(b) >= 0:\n",
    "    sys.stderr.write(\"Range error\")\n",
    "    quit()\n",
    "\n",
    "Secant_Method(f, a, b)"
   ]
  },
  {
   "cell_type": "code",
   "execution_count": null,
   "metadata": {},
   "outputs": [],
   "source": []
  }
 ],
 "metadata": {
  "kernelspec": {
   "display_name": "Python 3",
   "language": "python",
   "name": "python3"
  },
  "language_info": {
   "codemirror_mode": {
    "name": "ipython",
    "version": 3
   },
   "file_extension": ".py",
   "mimetype": "text/x-python",
   "name": "python",
   "nbconvert_exporter": "python",
   "pygments_lexer": "ipython3",
   "version": "3.8.3"
  }
 },
 "nbformat": 4,
 "nbformat_minor": 4
}
