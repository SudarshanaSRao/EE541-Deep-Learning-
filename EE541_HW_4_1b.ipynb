{
  "nbformat": 4,
  "nbformat_minor": 0,
  "metadata": {
    "colab": {
      "provenance": [],
      "collapsed_sections": []
    },
    "kernelspec": {
      "name": "python3",
      "display_name": "Python 3"
    },
    "language_info": {
      "name": "python"
    },
    "accelerator": "GPU"
  },
  "cells": [
    {
      "cell_type": "markdown",
      "metadata": {
        "id": "yyL9lzI5hLsk"
      },
      "source": [
        "(b) Softmax classification: gradient descent (GD) In this part you will use soft-max to peform multi-class classification instead of distinct “one against all” detectors. The target vector [Y]l = 1 x is an “l” 0 else.\n",
        "for l = 0, . . . , K − 1. You can alternatively consider a scalar output Y equal to the value in {0, 1, . . . , K − 1} corresponding to the class of input x. Construct a logistic classifier that uses K seperate linear weight vectors w0, w1, . . . , wK−1. Compute estimated probabilities for each class given input x and select the class with the largest score among your K predictors:\n",
        "P [Y = l|x, w] = exp(wTlx)PK i=0 exp(wTi x) Yˆ = arg maxl P [Y = l|x, w].\n",
        "\n",
        "Note that the probabilities sum to 1. Use log-loss and optimize with batch gradient descent. The (negative) likelihood function on an N sampling training set is: L(w) = −1NXN i=1 log Ph Y = y(i)|x(i), wi where the sum is over the N points in our training set."
      ]
    },
    {
      "cell_type": "code",
      "source": [
        "# Importing the necessary libraries. \n",
        "import h5py\n",
        "import math\n",
        "import numpy as np\n",
        "import matplotlib.pyplot as plt"
      ],
      "metadata": {
        "id": "T_-dLr7IRdNO"
      },
      "execution_count": null,
      "outputs": []
    },
    {
      "cell_type": "code",
      "source": [
        "# Extracting the data from the file.\n",
        "open_file = 'mnist_traindata.hdf5'\n",
        "with h5py.File(open_file, 'r') as columns:\n",
        "    file_datacols = np.array(columns)\n",
        "    print(file_datacols)"
      ],
      "metadata": {
        "colab": {
          "base_uri": "https://localhost:8080/"
        },
        "id": "St7dcJFrRc63",
        "outputId": "bc9db182-0ccd-4f71-b0e3-7d755b998b62"
      },
      "execution_count": null,
      "outputs": [
        {
          "output_type": "stream",
          "name": "stdout",
          "text": [
            "['xdata' 'ydata']\n"
          ]
        }
      ]
    },
    {
      "cell_type": "code",
      "source": [
        "# Converting the data to an array.\n",
        "open_file = 'mnist_traindata.hdf5' # Training dataset.\n",
        "with h5py.File(open_file, 'r') as columns:\n",
        "    xdata = np.float32(np.array(columns['xdata']))\n",
        "    ydata = np.float32(np.array(columns['ydata']))\n",
        "print('Dimensions of xdata: ', xdata.shape)\n",
        "print('Dimensions of ydata: ', ydata.shape)\n",
        "\n",
        "open_file = 'mnist_testdata.hdf5' # Testing dataset.\n",
        "with h5py.File(open_file, 'r') as columns:\n",
        "    xdatatest = np.float32(np.array(columns['xdata']))\n",
        "    ydatatest = np.float32(np.array(columns['ydata']))\n",
        "\n",
        "print(\"The dimensions of xdataset: \", xdatatest.shape)"
      ],
      "metadata": {
        "colab": {
          "base_uri": "https://localhost:8080/"
        },
        "id": "6ojU2pqPRcoq",
        "outputId": "16b5348a-5d5a-46d3-c675-f4fa7aa5ce65"
      },
      "execution_count": null,
      "outputs": [
        {
          "output_type": "stream",
          "name": "stdout",
          "text": [
            "Dimensions of xdata:  (60000, 784)\n",
            "Dimensions of ydata:  (60000, 10)\n",
            "The dimensions of xdataset:  (10000, 784)\n"
          ]
        }
      ]
    },
    {
      "cell_type": "code",
      "execution_count": null,
      "metadata": {
        "id": "7ol-JfnOhLsl"
      },
      "outputs": [],
      "source": [
        "# Training the model.\n",
        "# x -> xdata; y -> ydata; w -> weight; b -> bias; lamb -> lambda.\n",
        "def train(x, y, w, b, lamb):\n",
        "    samples, dataset = x.shape\n",
        "    weights = np.zeros([10, 784])\n",
        "    bias = np.zeros([10, 1])\n",
        "    loss = 0.0\n",
        "    accuracy = []\n",
        "    \n",
        "    for i in range(samples):\n",
        "        xi = np.reshape(x[i], (784, 1))\n",
        "        yi = y[i]\n",
        "        prediction_10 = np.exp((np.matmul(w, xi) + b)).reshape([10,])\n",
        "        d = np.float64(np.sum(prediction_10, axis = 0))\n",
        "        frac = prediction_10 / d # Fraction part.\n",
        "        \n",
        "        for j in range(y.shape[1]):\n",
        "            prediction = frac[j]\n",
        "            if yi[j] > 0.0:\n",
        "                weight_values = (1 - prediction) * xi\n",
        "                bias_values = 1 - prediction\n",
        "                loss = loss - np.log(prediction)\n",
        "            else:\n",
        "                weight_values = -prediction * xi\n",
        "                bias_values = -prediction\n",
        "            \n",
        "            weights[j] -= weight_values[:, 0]\n",
        "            bias[j] -= bias_values\n",
        "\n",
        "        max_pred = np.argmax(prediction_10)\n",
        "        max_y = np.argmax(yi)\n",
        "        \n",
        "        if max_pred == max_y:\n",
        "            accuracy.append(1)\n",
        "            \n",
        "    loss_sum = loss / samples # Computing the loss.\n",
        "    weights_sum = weights / samples\n",
        "    bias_sum = bias / samples\n",
        "    total_accuracy = np.sum(accuracy) / samples # Calculating the accuracy.\n",
        "\n",
        "    for j in range(y.shape[1]):\n",
        "        weights_sum[j] += lamb * np.sum(abs(w[j]))\n",
        "    \n",
        "    return weights_sum, bias_sum ,total_accuracy, loss_sum\n",
        "\n",
        "# Testing the model.\n",
        "# x -> xdata; y -> ydata; w -> weight; b -> bias.\n",
        "def test(x, y, w, b):\n",
        "    samples, dta = x.shape\n",
        "    loss = 0.0\n",
        "    accuracy = []\n",
        "    \n",
        "    for i in range(samples):\n",
        "        xi = np.reshape(x[i], (784, 1))\n",
        "        yi = y[i]\n",
        "        prediction_10 = np.exp((np.matmul(w, xi) + b)).reshape([10,])\n",
        "        d = np.float64(np.sum(prediction_10, axis = 0))\n",
        "        frac = prediction_10 / d # Fraction part.\n",
        "        \n",
        "        for j in range(y.shape[1]):\n",
        "            prediction = frac[j]\n",
        "            if yi[j] > 0.0:\n",
        "                loss -= np.log(prediction)\n",
        "\n",
        "        max_pred = np.argmax(prediction_10)\n",
        "        max_y = np.argmax(yi)\n",
        "        if max_pred == max_y:\n",
        "            accuracy.append(1)\n",
        "            \n",
        "    loss_sum = loss / samples # Computing the loss.\n",
        "    total_accuracy = np.sum(accuracy) / samples # Calculating the accuracy.\n",
        "\n",
        "    return total_accuracy, loss_sum    "
      ]
    },
    {
      "cell_type": "code",
      "execution_count": null,
      "metadata": {
        "colab": {
          "base_uri": "https://localhost:8080/",
          "height": 295
        },
        "id": "iGwxchtuhLsm",
        "outputId": "22b26a6f-10b1-40ed-e307-42615cd6ea38"
      },
      "outputs": [
        {
          "output_type": "display_data",
          "data": {
            "text/plain": [
              "<Figure size 432x288 with 1 Axes>"
            ],
            "image/png": "[encoded data removed]"
          },
          "metadata": {
            "needs_background": "light"
          }
        }
      ],
      "source": [
        "w = np.zeros([10, 784]) # Resetting the weight values before the fucntion call.\n",
        "b = np.zeros([10, 1]) # Resetting the bias values before the fucntion call.\n",
        "test_loss = []\n",
        "test_accuracy = []\n",
        "train_loss = []\n",
        "train_accuracy = []\n",
        "lamb = 0 # Regularizer is not required as the model converges.\n",
        "epoch = 30\n",
        "\n",
        "for i in range(epoch):\n",
        "    weights_sum, bias_sum, accuracy, loss_sum = train(xdata, ydata, w, b, lamb) # Function (train) call.\n",
        "    train_accuracy.append(accuracy)\n",
        "    train_loss.append(loss_sum)\n",
        "\n",
        "    total_accuracy, total_loss = test(xdatatest, ydatatest, w, b) # Function (test) call. \n",
        "    test_accuracy.append(total_accuracy)\n",
        "    test_loss.append(total_loss)\n",
        "    \n",
        "    w -= 0.65 * weights_sum # Chosen learning rate is 0.65\n",
        "    b -= 0.65 * bias_sum\n",
        "\n",
        "# Plotting the log loss graph.\n",
        "plt.title(\"Log loss\")\n",
        "plt.xlabel(\"Epochs\")\n",
        "plt.ylabel(\"Loss in dB\")\n",
        "plt.plot(range(epoch), 20 * np.log10(train_loss), label = \"Loss during the training phase\")\n",
        "plt.plot(range(epoch), 20 * np.log10(test_loss), label = \"Loss during the testing phase\")\n",
        "plt.legend()\n",
        "plt.show()"
      ]
    },
    {
      "cell_type": "code",
      "source": [
        "# Plotting the accuracy graph.\n",
        "plt.title(\"Accuracy\")\n",
        "plt.xlabel(\"Number of Epochs\")\n",
        "plt.ylabel(\"Accuracy of the entire dataset\")\n",
        "plt.plot(range(epoch), train_accuracy, label = \"Accuracy during the training phase\")\n",
        "plt.plot(range(epoch), test_accuracy, label = \"Accuracy during the testing phase\")\n",
        "plt.legend()\n",
        "plt.show()"
      ],
      "metadata": {
        "colab": {
          "base_uri": "https://localhost:8080/",
          "height": 295
        },
        "id": "8cA03Al8ZjRR",
        "outputId": "82f2ce97-1da7-4324-d395-f30f9a0358ff"
      },
      "execution_count": null,
      "outputs": [
        {
          "output_type": "display_data",
          "data": {
            "text/plain": [
              "<Figure size 432x288 with 1 Axes>"
            ],
            "image/png": "[encoded data removed]"
          },
          "metadata": {
            "needs_background": "light"
          }
        }
      ]
    },
    {
      "cell_type": "markdown",
      "source": [
        "iii. Plot log-loss (i.e., learning curve) of the training set and test set on the same figure. On\n",
        "a separate figure plot the accuracy against iteration number of your model on the training\n",
        "set and test set. Plot each as a function of the iteration number."
      ],
      "metadata": {
        "id": "cZEUIL8ePDN8"
      }
    },
    {
      "cell_type": "code",
      "source": [
        "print(\"Final training loss: \", 20 * np.log10(train_loss[epoch - 1]), 'dB')\n",
        "print(\"Final test loss: \", 20 * np.log10(test_loss[epoch - 1]), 'dB')\n",
        "print(\"Final training accuracy: \", train_accuracy[epoch - 1] * 100, '%')\n",
        "print(\"Final test accuracy: \", test_accuracy[epoch - 1] * 100, '%')"
      ],
      "metadata": {
        "colab": {
          "base_uri": "https://localhost:8080/"
        },
        "id": "BJAkHUJzZjFj",
        "outputId": "f578af5c-9480-4bde-be5c-c127972827e3"
      },
      "execution_count": null,
      "outputs": [
        {
          "output_type": "stream",
          "name": "stdout",
          "text": [
            "Final training loss:  -6.151673644809095 dB\n",
            "Final test loss:  -6.548856860457139 dB\n",
            "Final training accuracy:  87.60166666666666 %\n",
            "Final test accuracy:  88.41 %\n"
          ]
        }
      ]
    },
    {
      "cell_type": "markdown",
      "source": [
        "iv. Compute the final loss and final accuracy for both your training set and test set."
      ],
      "metadata": {
        "id": "uF8Jiyh1O8Ii"
      }
    },
    {
      "cell_type": "markdown",
      "source": [
        "ii. Implement batch gradient descent. What learning rate did you use?\n",
        "\n",
        "**Answer: -** I used 0.65 as the learning rate."
      ],
      "metadata": {
        "id": "Y9hDknlZOOJT"
      }
    }
  ]
}