{
  "cells": [
    {
      "cell_type": "markdown",
      "source": [
        "2. In this problem you will use numpy to program the feed-forward phase for a deep multilayer perceptron (MLP) neural network. We provide you with a pre-trained MLP using the MNIST dataset. The MLP has an input layer with 784-neurons, 2 hidden layers of 200 and 100 neurons, and a 10-neuron output\n",
        "layer. The model assumes ReLU activation for the hidden layers and softmax function in the output layer."
      ],
      "metadata": {
        "id": "pK1xE2hwubEw"
      }
    },
    {
      "cell_type": "code",
      "execution_count": null,
      "metadata": {
        "id": "fb9xiUU9tGW6"
      },
      "outputs": [],
      "source": [
        "# Importing the necessary libraries.\n",
        "import numpy as np\n",
        "import h5py\n",
        "import math\n",
        "import matplotlib.pyplot as plt\n",
        "import json"
      ]
    },
    {
      "cell_type": "code",
      "execution_count": null,
      "metadata": {
        "id": "9T2wVg6HtGW_"
      },
      "outputs": [],
      "source": [
        "# Extracting the weights and bias from the dataset file.\n",
        "file = h5py.File(\"mnist_network_params.hdf5\")\n",
        "w1 = file['W1'][:]\n",
        "w2 = file['W2'][:]\n",
        "w3 = file['W3'][:]\n",
        "b1 = file['b1'][:]\n",
        "b2 = file['b2'][:]\n",
        "b3 = file['b3'][:]"
      ]
    },
    {
      "cell_type": "markdown",
      "metadata": {
        "id": "KoymKJlutGXB"
      },
      "source": [
        "(a) Extract the weights and biases of the pre-trained network from mnist network params.hdf5. The file has 6 keys corresponding to: W 1, b 1, W 2, b 2, W 3, b 3. Verify the dimension of each\n",
        "numpy array with the shape property."
      ]
    },
    {
      "cell_type": "code",
      "execution_count": null,
      "metadata": {
        "colab": {
          "base_uri": "https://localhost:8080/"
        },
        "id": "vKcj8mDqtGXF",
        "outputId": "f4c8f8bc-db27-4d17-cd4a-c86c825bffff"
      },
      "outputs": [
        {
          "output_type": "stream",
          "name": "stdout",
          "text": [
            "Dimensions of weight-1:  (200, 784)\n",
            "Dimensions of weight-2:  (100, 200)\n",
            "Dimensions of weight-3:  (10, 100)\n",
            "Dimensions of bias-1:  (200,)\n",
            "Dimensions of bias-2:  (100,)\n",
            "Dimensions of bias-3:  (10,)\n"
          ]
        }
      ],
      "source": [
        "print(\"Dimensions of weight-1: \", w1.shape)\n",
        "print(\"Dimensions of weight-2: \",w2.shape)\n",
        "print(\"Dimensions of weight-3: \",w3.shape)\n",
        "print(\"Dimensions of bias-1: \",b1.shape)\n",
        "print(\"Dimensions of bias-2: \",b2.shape)\n",
        "print(\"Dimensions of bias-3: \",b3.shape)"
      ]
    },
    {
      "cell_type": "code",
      "execution_count": null,
      "metadata": {
        "id": "OZ8R3oNjtGXI"
      },
      "outputs": [],
      "source": [
        "# Extracting the test dataset file.\n",
        "filetest = h5py.File(\"mnist_testdata.hdf5\")\n",
        "xtestdata = filetest['xdata'][:]\n",
        "ytestdata = filetest['ydata'][:]"
      ]
    },
    {
      "cell_type": "markdown",
      "metadata": {
        "id": "81LrnXiwtGXI"
      },
      "source": [
        "(b) The file mnist testdata.hdf5 contains 10,000 images. xtestdata holds pixel intensities and ytestdata contains the corresponding class labels. Extract these. Note: each image vector is 784-\n",
        "dimensions and the label is 10-dimensional with one-hot encoded, i.e., label [0,0,0,1,0,0,0,0,0,0] means the image is class “3”."
      ]
    },
    {
      "cell_type": "code",
      "execution_count": null,
      "metadata": {
        "colab": {
          "base_uri": "https://localhost:8080/"
        },
        "id": "jQuAXta7tGXJ",
        "outputId": "e2d5ae60-16ab-47ae-da54-ed66c391ea65"
      },
      "outputs": [
        {
          "output_type": "stream",
          "name": "stdout",
          "text": [
            "Dimensions of the x test data:  (10000, 784)\n",
            "Dimensions of the y test data:  (10000, 10)\n"
          ]
        }
      ],
      "source": [
        "print(\"Dimensions of the x test data: \", xtestdata.shape)\n",
        "print(\"Dimensions of the y test data: \", ytestdata.shape)"
      ]
    },
    {
      "cell_type": "markdown",
      "metadata": {
        "id": "_cI816DktGXJ"
      },
      "source": [
        "(c) Write functions to calculate ReLU and softmax:\n",
        "• ReLU (x) = max (0, x).\n",
        "• Softmax (x) = he Px1n i=1 exi, e Px2n i=1 exi, . . . ,e Pxnn i=1 exii.\n",
        "The softmax function takes a vector of size n and returns another vector of size n that you can interpret as a probability distribution. For example: Softmax([0; 1; 2]) = [0:09; 0:24; 0:67] so you can conclude that the 3rd element is the most likely outcome."
      ]
    },
    {
      "cell_type": "code",
      "execution_count": null,
      "metadata": {
        "id": "f_j4tKKCtGXK"
      },
      "outputs": [],
      "source": [
        "# Defining the ReLU(x) function.\n",
        "def ReLU(x):\n",
        "    ele = [0 if x < 0 else x for x in x] \n",
        "    ele = np.array(ele)\n",
        "    \n",
        "    return ele"
      ]
    },
    {
      "cell_type": "code",
      "execution_count": null,
      "metadata": {
        "id": "Jj3VfGg-tGXL"
      },
      "outputs": [],
      "source": [
        "# Defining the Softmax(x) function.\n",
        "def Soft_Max(var):\n",
        "    d = np.sum(np.exp(var))\n",
        "    prediction = []\n",
        "    \n",
        "    for iter in range(len(var)):\n",
        "        num = math.exp(var[iter])\n",
        "        prediction.append(num / d)\n",
        "    \n",
        "    prediction = np.array(prediction)\n",
        "    \n",
        "    return prediction"
      ]
    },
    {
      "cell_type": "markdown",
      "metadata": {
        "id": "0IZoj55AtGXL"
      },
      "source": [
        "(d) Use numpy to create an MLP to classify 784-dimensional images into the target 10-dimensional output. Use ReLU activation for the two hidden layers and softmax the output layer. Output index and activation as integers (not string) and include only the 10 final-layer output\n",
        "activations as numeric floats."
      ]
    },
    {
      "cell_type": "code",
      "execution_count": null,
      "metadata": {
        "colab": {
          "base_uri": "https://localhost:8080/"
        },
        "id": "hHZccmwEtGXL",
        "outputId": "279e5c9f-df4c-4eeb-a5d5-005e71c41aac"
      },
      "outputs": [
        {
          "output_type": "execute_result",
          "data": {
            "text/plain": [
              "range(0, 784)"
            ]
          },
          "metadata": {},
          "execution_count": 15
        }
      ],
      "source": [
        "range(xtestdata[0].shape[0])"
      ]
    },
    {
      "cell_type": "code",
      "execution_count": null,
      "metadata": {
        "id": "tOX6urrBtGXM"
      },
      "outputs": [],
      "source": [
        "# Defining the Multi-Layer Perceptron (MLP) neural network.\n",
        "def MLP(xi,yi):\n",
        "    dataset_list = []\n",
        "    accuracy = []\n",
        "\n",
        "    for data in range(xi.shape[0]):\n",
        "        out1 = ReLU(np.matmul(w1, xi[data]) + b1)\n",
        "        out2 = ReLU(np.matmul(w2, out1) + b2)\n",
        "        out3 = Soft_Max(np.matmul(w3, out2) + b3)\n",
        "        classification = int(np.argmax(out3))\n",
        "        \n",
        "        if yi[data][classification] > 0.0: # Treshold/benchmark condition for the accuracy.\n",
        "            accuracy.append(1)\n",
        "        else:\n",
        "            accuracy.append(0)\n",
        "\n",
        "        output_dict = {\"index\": data,\"activations\": list(out3), \"classification\": classification}\n",
        "        dataset_list.append(output_dict)\n",
        "\n",
        "    return dataset_list, accuracy"
      ]
    },
    {
      "cell_type": "code",
      "execution_count": null,
      "metadata": {
        "id": "QXj84CFQtGXM"
      },
      "outputs": [],
      "source": [
        "output_data, final_accuracy  = MLP(xtestdata, ytestdata) # Function call.\n",
        "# Printing the output as a json file for autolab.\n",
        "with open(\"result.json\", \"w\") as Output_file:\n",
        "    Output_file.write(json.dumps(output_data))"
      ]
    },
    {
      "cell_type": "markdown",
      "metadata": {
        "id": "1gJSqr8UtGXN"
      },
      "source": [
        "(e) Compare your prediction with the (true) ytestdata label. Count the classification as correct if the position of the maximum element in your prediction matches with the position of the 1 in ytestdata. Tally the number of correctly classified images from the whole set of 10,000. [hint:9790 correct]."
      ]
    },
    {
      "cell_type": "code",
      "execution_count": null,
      "metadata": {
        "colab": {
          "base_uri": "https://localhost:8080/"
        },
        "id": "EfLZA0mstGXN",
        "outputId": "bc12e762-e42a-42a2-9afa-01530a833a43"
      },
      "outputs": [
        {
          "output_type": "stream",
          "name": "stdout",
          "text": [
            "The number of correct predictions/classifications:  9790 \n",
            "Quite Easily Done (QED)\n"
          ]
        }
      ],
      "source": [
        "true_classification = final_accuracy.count(1)\n",
        "if true_classification == 9790:\n",
        "  print(\"The number of correct predictions/classifications: \", true_classification, \"\\nQuite Easily Done (QED)\")\n",
        "else:\n",
        "  print(\"The number of correct predictions/classifications is wrong\")"
      ]
    },
    {
      "cell_type": "markdown",
      "metadata": {
        "id": "4BhavspLtGXN"
      },
      "source": [
        "(f) Identify and investigate several datapoints that your MLP classified correctly and several it classified incorrectly. Inspect them visually. Is the correct class obvious to you in the incorrect cases?"
      ]
    },
    {
      "cell_type": "code",
      "execution_count": null,
      "metadata": {
        "colab": {
          "base_uri": "https://localhost:8080/"
        },
        "id": "DZbC7wJftGXO",
        "outputId": "fad93656-9909-43d0-df5c-0348d2fc3f91"
      },
      "outputs": [
        {
          "output_type": "stream",
          "name": "stdout",
          "text": [
            "The indices of wrongly classified images \n",
            " [8, 115, 247, 321, 340, 381, 445, 449, 495, 551, 582, 613, 619, 646, 659, 684, 707, 720, 900, 947, 951, 965, 1003, 1014, 1032, 1039, 1112, 1128, 1156, 1178, 1182, 1224, 1226, 1232, 1242, 1247, 1299, 1319, 1328, 1378, 1444, 1522, 1530, 1549, 1553, 1609, 1621, 1626, 1670, 1681, 1709, 1717, 1790, 1850, 1878, 1901, 1911, 1940, 1941, 1984, 1987, 2035, 2070, 2098, 2109, 2118, 2130, 2135, 2182, 2185, 2272, 2280, 2293, 2387, 2414, 2488, 2512, 2514, 2582, 2597, 2607, 2648, 2654, 2877, 2896, 2921, 2939, 2953, 2995, 3060, 3062, 3073, 3117, 3342, 3422, 3490, 3503, 3520, 3533, 3549, 3558, 3559, 3597, 3702, 3718, 3727, 3757, 3780, 3811, 3818, 3853, 3869, 3893, 3906, 3926, 3941, 3943, 3985, 4065, 4075, 4078, 4093, 4123, 4163, 4176, 4199, 4201, 4224, 4248, 4271, 4289, 4294, 4384, 4425, 4497, 4534, 4536, 4601, 4671, 4740, 4761, 4807, 4823, 4839, 4860, 4879, 4880, 4956, 5138, 5199, 5331, 5457, 5634, 5642, 5676, 5734, 5835, 5887, 5936, 5937, 5955, 5973, 5981, 6011, 6024, 6045, 6046, 6059, 6505, 6558, 6571, 6572, 6597, 6625, 6651, 6755, 6783, 6847, 7216, 7451, 7921, 8020, 8062, 8094, 8183, 8273, 8311, 8325, 8408, 8527, 9009, 9015, 9019, 9024, 9280, 9587, 9634, 9664, 9679, 9692, 9698, 9729, 9742, 9745, 9768, 9770, 9779, 9839, 9944, 9975]\n"
          ]
        }
      ],
      "source": [
        "false_classification = []\n",
        "for index, elements in enumerate(final_accuracy):\n",
        "  if elements == 0:\n",
        "    false_classification.append(index)\n",
        "print(\"The indices of wrongly classified images \\n\", false_classification)"
      ]
    },
    {
      "cell_type": "code",
      "execution_count": null,
      "metadata": {
        "colab": {
          "base_uri": "https://localhost:8080/",
          "height": 1000
        },
        "id": "VYO0ZNALtGXP",
        "outputId": "27917b51-d0ca-4cbc-da8f-1d1cdf377dcc"
      },
      "outputs": [
        {
          "output_type": "display_data",
          "data": {
            "text/plain": [
              "<Figure size 432x288 with 1 Axes>"
            ],
            "image/png": "[encoded data removed]"
          },
          "metadata": {
            "needs_background": "light"
          }
        },
        {
          "output_type": "display_data",
          "data": {
            "text/plain": [
              "<Figure size 432x288 with 1 Axes>"
            ],
            "image/png": "[encoded data removed]"
          },
          "metadata": {
            "needs_background": "light"
          }
        },
        {
          "output_type": "display_data",
          "data": {
            "text/plain": [
              "<Figure size 432x288 with 1 Axes>"
            ],
            "image/png": "[encoded data removed]"
          },
          "metadata": {
            "needs_background": "light"
          }
        },
        {
          "output_type": "display_data",
          "data": {
            "text/plain": [
              "<Figure size 432x288 with 1 Axes>"
            ],
            "image/png": "[encoded data removed]"
          },
          "metadata": {
            "needs_background": "light"
          }
        },
        {
          "output_type": "display_data",
          "data": {
            "text/plain": [
              "<Figure size 432x288 with 1 Axes>"
            ],
            "image/png": "[encoded data removed]"
          },
          "metadata": {
            "needs_background": "light"
          }
        },
        {
          "output_type": "display_data",
          "data": {
            "text/plain": [
              "<Figure size 432x288 with 1 Axes>"
            ],
            "image/png": "[encoded data removed]"
          },
          "metadata": {
            "needs_background": "light"
          }
        },
        {
          "output_type": "display_data",
          "data": {
            "text/plain": [
              "<Figure size 432x288 with 1 Axes>"
            ],
            "image/png": "[encoded data removed]"
          },
          "metadata": {
            "needs_background": "light"
          }
        }
      ],
      "source": [
        "for corr in range(7):\n",
        "    plt.imshow(xtestdata[corr].reshape(28, 28))\n",
        "    plt.show()"
      ]
    },
    {
      "cell_type": "markdown",
      "source": [
        "The above images are correctly classified by the MLP neural network. By closer visual inspection it is obvious that the model is right in classifying them."
      ],
      "metadata": {
        "id": "pG7-6IjKCdhY"
      }
    },
    {
      "cell_type": "code",
      "execution_count": null,
      "metadata": {
        "colab": {
          "base_uri": "https://localhost:8080/",
          "height": 1000
        },
        "id": "dy5WUt27tGXO",
        "outputId": "94d5bcfb-b2de-4d73-ce00-c6056a817f83"
      },
      "outputs": [
        {
          "output_type": "display_data",
          "data": {
            "text/plain": [
              "<Figure size 432x288 with 1 Axes>"
            ],
            "image/png": "[encoded data removed]"
          },
          "metadata": {
            "needs_background": "light"
          }
        },
        {
          "output_type": "display_data",
          "data": {
            "text/plain": [
              "<Figure size 432x288 with 1 Axes>"
            ],
            "image/png": "[encoded data removed]"
          },
          "metadata": {
            "needs_background": "light"
          }
        },
        {
          "output_type": "display_data",
          "data": {
            "text/plain": [
              "<Figure size 432x288 with 1 Axes>"
            ],
            "image/png": "[encoded data removed]"
          },
          "metadata": {
            "needs_background": "light"
          }
        },
        {
          "output_type": "display_data",
          "data": {
            "text/plain": [
              "<Figure size 432x288 with 1 Axes>"
            ],
            "image/png": "[encoded data removed]"
          },
          "metadata": {
            "needs_background": "light"
          }
        },
        {
          "output_type": "display_data",
          "data": {
            "text/plain": [
              "<Figure size 432x288 with 1 Axes>"
            ],
            "image/png": "[encoded data removed]"
          },
          "metadata": {
            "needs_background": "light"
          }
        },
        {
          "output_type": "display_data",
          "data": {
            "text/plain": [
              "<Figure size 432x288 with 1 Axes>"
            ],
            "image/png": "[encoded data removed]"
          },
          "metadata": {
            "needs_background": "light"
          }
        },
        {
          "output_type": "display_data",
          "data": {
            "text/plain": [
              "<Figure size 432x288 with 1 Axes>"
            ],
            "image/png": "[encoded data removed]"
          },
          "metadata": {
            "needs_background": "light"
          }
        }
      ],
      "source": [
        "for mis in false_classification[0:7]:\n",
        "    plt.imshow(xtestdata[mis].reshape(28, 28))\n",
        "    plt.show()"
      ]
    },
    {
      "cell_type": "markdown",
      "source": [
        "The above images are wrongly classified by the MLP neural network. After close inspection, it is evident that the above images are visually confusing. For instance, the first image could be a '5' or '6', second image could be a '4' or '9', and the last image could be a '0' or '6'.  "
      ],
      "metadata": {
        "id": "ZK8FZZCXCwe4"
      }
    }
  ],
  "metadata": {
    "kernelspec": {
      "display_name": "Python 3.8.13 ('ee541_work')",
      "language": "python",
      "name": "python3"
    },
    "language_info": {
      "codemirror_mode": {
        "name": "ipython",
        "version": 3
      },
      "file_extension": ".py",
      "mimetype": "text/x-python",
      "name": "python",
      "nbconvert_exporter": "python",
      "pygments_lexer": "ipython3",
      "version": "3.8.13"
    },
    "orig_nbformat": 4,
    "vscode": {
      "interpreter": {
        "hash": "78ae02b60856cb9385b1b2a14c33818e34a6dc930eb2de652ae606a3f4f155bd"
      }
    },
    "colab": {
      "provenance": [],
      "collapsed_sections": []
    }
  },
  "nbformat": 4,
  "nbformat_minor": 0
}