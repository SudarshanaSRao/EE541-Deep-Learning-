{
  "cells": [
    {
      "cell_type": "markdown",
      "source": [
        "The MNIST dataset of handwritten digits is one of the earliest and most used datasets to benchmark machine learning classifiers. Each datapoint contains 784 input features – the pixel values from a 28×28 image – and belongs to one of 10 output classes – represented by the numbers 0-9.\n",
        "1. Logistic regression\n",
        "In this problem you will use numpy to classify input images using a logistic-regression. Use only Python standard library modules, numpy, and mathplotlib for this problem."
      ],
      "metadata": {
        "id": "6pJsekjkiqpp"
      }
    },
    {
      "cell_type": "code",
      "execution_count": null,
      "metadata": {
        "id": "RQ4LQjD5hLsZ"
      },
      "outputs": [],
      "source": [
        "# Importing the necessary libraries. \n",
        "import h5py\n",
        "import math\n",
        "import numpy as np\n",
        "import matplotlib.pyplot as plt"
      ]
    },
    {
      "cell_type": "code",
      "execution_count": null,
      "metadata": {
        "colab": {
          "base_uri": "https://localhost:8080/"
        },
        "id": "F28mfIxghLse",
        "outputId": "90048fd0-bb0d-4c0e-d3a9-9f7d6822c626"
      },
      "outputs": [
        {
          "output_type": "stream",
          "name": "stdout",
          "text": [
            "['xdata' 'ydata']\n"
          ]
        }
      ],
      "source": [
        "# Extracting the data from the file.\n",
        "open_file = 'mnist_traindata.hdf5'\n",
        "with h5py.File(open_file, 'r') as columns:\n",
        "    file_datacols = np.array(columns)\n",
        "    print(file_datacols)"
      ]
    },
    {
      "cell_type": "code",
      "execution_count": null,
      "metadata": {
        "colab": {
          "base_uri": "https://localhost:8080/"
        },
        "id": "4GxzAc3hhLsf",
        "outputId": "37ac5738-ffdf-442b-de36-1c94abceee8a"
      },
      "outputs": [
        {
          "output_type": "stream",
          "name": "stdout",
          "text": [
            "Dimensions of xdata:  (60000, 784)\n",
            "Dimensions of ydata:  (60000, 10)\n",
            "The dimensions of xdataset:  (10000, 784)\n"
          ]
        }
      ],
      "source": [
        "# Converting the data to an array.\n",
        "open_file = 'mnist_traindata.hdf5' # Training dataset.\n",
        "with h5py.File(open_file, 'r') as columns:\n",
        "    xdata = np.float32(np.array(columns['xdata']))\n",
        "    ydata = np.float32(np.array(columns['ydata']))\n",
        "print('Dimensions of xdata: ', xdata.shape)\n",
        "print('Dimensions of ydata: ', ydata.shape)\n",
        "\n",
        "open_file = 'mnist_testdata.hdf5' # Testing dataset.\n",
        "with h5py.File(open_file, 'r') as columns:\n",
        "    xdatatest = np.float32(np.array(columns['xdata']))\n",
        "    ydatatest = np.float32(np.array(columns['ydata']))\n",
        "\n",
        "print(\"The dimensions of xdataset: \", xdatatest.shape)"
      ]
    },
    {
      "cell_type": "markdown",
      "metadata": {
        "id": "tUfkQQuRhLsg"
      },
      "source": [
        "(a) Logistic “2” detector\n",
        "In this part you will use the provided MNIST handwritten-digit data to build and train a logistic\n",
        "“2” detector: y =  1 x is a \"2\" 0 else.\n",
        "\n",
        "A logistic classifier takes learned weight vector w = [w1, w2, . . . wL]T and the unregularized offset bias b ≜ w0 to estimate a probability that an input vector x = [x1, x2, . . . , xL]T is “2”:\n",
        "p(x) = P [Y = 1|x, w] = 1 1 + exp PL i=1 wk · xk + w0 = 1 1 + exp (wT x + w0).\n",
        "\n",
        "Train a logistic classifier to find weights that minimize the binary log-loss (also called the binary cross entropy loss): l(w) = −1NXN i=1 (yilog p(x)) + (1 − yi) log (1 − p(x)) where the sum is over the N samples in the training set. Train your model until convergence accuracyording to some metric you choose. Experiment with variations of l1- and/or l2-regularization to stabilize training and improve generalization."
      ]
    },
    {
      "cell_type": "code",
      "execution_count": null,
      "metadata": {
        "id": "-bwhc8mGhLsh"
      },
      "outputs": [],
      "source": [
        "# Training the model.\n",
        "# x -> xdata; y -> ydata; w -> weight; b -> bias.\n",
        "def train_model(x, y, w, b):\n",
        "    samples, dataset = x.shape\n",
        "    weights = []\n",
        "    bias = []\n",
        "    loss_list = []\n",
        "    accuracy = []\n",
        "\n",
        "    for i in range(samples):\n",
        "        xi = x[i]\n",
        "        yi = y[i, 2]\n",
        "        s = np.matmul(w.T, xi) + b # Power of the exponent.\n",
        "        act = 1 / (1 + math.exp(-s))\n",
        "        loss = yi * np.log(act) + (1 - yi) * np.log(1 - act)\n",
        "        loss_list.append(loss)\n",
        "        weight_values = (yi - act) * xi\n",
        "        weights.append(weight_values)\n",
        "        bias_values = (yi - act)\n",
        "        bias.append(bias_values)\n",
        "\n",
        "        if act >= 0.5: # Threshold condition/benchmark for the accuracy.\n",
        "            if yi == 1:\n",
        "                accuracy.append(1)\n",
        "        else:\n",
        "            if yi == 0:\n",
        "                accuracy.append(1)\n",
        "    \n",
        "    loss_sum = -1 * np.sum(loss_list) / samples # Calculating the loss.\n",
        "    weight_sum = np.array(-1 * np.sum(weights, axis = 0) / samples)\n",
        "    bias_sum = -1 * np.sum(bias) / samples\n",
        "    total_accuracy = np.sum(accuracy) / samples * 100 # Computing the accuracy.\n",
        "    \n",
        "    return weight_sum, bias_sum, total_accuracy, loss_sum\n",
        "\n",
        "# Testing the model.\n",
        "# x -> xdata; y -> ydata; w -> weight; b -> bias.\n",
        "def test_model(x, y, w, b):\n",
        "    samples, dataset = x.shape\n",
        "    accuracy = []\n",
        "    loss_list = []\n",
        "\n",
        "    for i in range(samples):\n",
        "        xi = x[i]\n",
        "        yi = y[i, 2]\n",
        "        s = np.matmul(w.T, xi) + b # Power of the exponent.\n",
        "        act = 1 / (1 + math.exp(-s))\n",
        "        \n",
        "        if act >= 0.5: # Threshold condition/benchmark for the accuracy.\n",
        "            if yi == 1:\n",
        "                accuracy.append(1)\n",
        "        elif yi == 0:\n",
        "                accuracy.append(1)\n",
        "        loss = yi * np.log(act) + (1 - yi) * np.log(1 - act)\n",
        "        loss_list.append(loss)\n",
        "    \n",
        "    loss_sum = -1 * np.sum(loss_list) / samples # Computing the loss.\n",
        "    total_accuracy = np.sum(accuracy) / samples * 100 # Calculating the accuracy.\n",
        "    \n",
        "    return total_accuracy, loss_sum"
      ]
    },
    {
      "cell_type": "code",
      "execution_count": null,
      "metadata": {
        "colab": {
          "base_uri": "https://localhost:8080/",
          "height": 295
        },
        "id": "UYDNE6qzhLsi",
        "outputId": "79e7da82-8b6b-4689-bbba-ba61be79dda8"
      },
      "outputs": [
        {
          "output_type": "display_data",
          "data": {
            "text/plain": [
              "<Figure size 432x288 with 1 Axes>"
            ],
            "image/png": "[encoded data removed]"
          },
          "metadata": {
            "needs_background": "light"
          }
        }
      ],
      "source": [
        "w = np.zeros([784]) # Resetting the weight values before the fucntion call.\n",
        "b = 0 # Resetting the bias values before the fucntion call.\n",
        "train_loss_array = []\n",
        "test_loss_array = []\n",
        "accuracy_array = []\n",
        "final_accuracy_array = []\n",
        "epoch = 80\n",
        "\n",
        "for i in range(epoch):\n",
        "    weight_sum, bias_sum, accuracy, loss_sum = train_model(xdata, ydata, w, b) # Function (train) call.\n",
        "    accuracy_array.append(accuracy)\n",
        "    train_loss_array.append(loss_sum)\n",
        "    \n",
        "    accuracy_test, loss_sum_total = test_model(xdatatest, ydatatest, w, b) # Function (test) call.\n",
        "    final_accuracy_array.append(accuracy_test)\n",
        "    test_loss_array.append(loss_sum_total)\n",
        "    \n",
        "    w -= 0.85 * weight_sum # Learning rate is 0.85\n",
        "    b -= 0.85 * bias_sum\n",
        "\n",
        "# Plotting the log loss graph.\n",
        "plt.title(\"Log loss\")\n",
        "plt.xlabel(\"Epochs\")\n",
        "plt.ylabel(\"Loss in dB\")\n",
        "plt.plot(range(epoch), 20 * np.log10(train_loss_array), label = \"Loss during the training phase\")\n",
        "plt.plot(range(epoch), 20 * np.log10(test_loss_array), label = \"Loss during the testing phase\")\n",
        "plt.legend()\n",
        "plt.show()"
      ]
    },
    {
      "cell_type": "code",
      "source": [
        "# Plotting the accuracy graph.\n",
        "plt.title(\"Accuracy\")\n",
        "plt.xlabel(\"Number of epochs\")\n",
        "plt.ylabel(\"Accuracy(%) over the entire datasets of 60,000\")\n",
        "plt.plot(range(epoch), accuracy_array, label = \"Accuracy during the training phase\")\n",
        "plt.plot(range(epoch), final_accuracy_array, label = \"Accuracy during the testing phase\")\n",
        "plt.legend()\n",
        "plt.show()"
      ],
      "metadata": {
        "colab": {
          "base_uri": "https://localhost:8080/",
          "height": 295
        },
        "id": "6-Oqlg2jKKtp",
        "outputId": "b262d9cc-10ce-4c84-b41d-f2f5bcb511f7"
      },
      "execution_count": null,
      "outputs": [
        {
          "output_type": "display_data",
          "data": {
            "text/plain": [
              "<Figure size 432x288 with 1 Axes>"
            ],
            "image/png": "[encoded data removed]"
          },
          "metadata": {
            "needs_background": "light"
          }
        }
      ]
    },
    {
      "cell_type": "markdown",
      "source": [
        "iv. Plot log-loss (i.e., learning curve) of the training set and test set on the same figure. On\n",
        "a separate figure plot the accuracy against iteration number of your model on the training\n",
        "set and test set. Plot each as a function of the iteration number."
      ],
      "metadata": {
        "id": "z3LxHAs7Ph_K"
      }
    },
    {
      "cell_type": "code",
      "source": [
        "print(\"Final training loss: \", 20 * np.log10(train_loss_array[epoch - 1]), 'dB')\n",
        "print(\"Final test loss: \", 20 * np.log10(test_loss_array[epoch - 1]), 'dB')\n",
        "print(\"Final training accuracy: \", accuracy_array[epoch - 1], '%')\n",
        "print(\"Final test accuracy: \", final_accuracy_array[epoch - 1], '%')"
      ],
      "metadata": {
        "colab": {
          "base_uri": "https://localhost:8080/"
        },
        "id": "KP7vs9YGKN5h",
        "outputId": "ab9307fe-1a29-451d-a4ee-2924feeaa965"
      },
      "execution_count": null,
      "outputs": [
        {
          "output_type": "stream",
          "name": "stdout",
          "text": [
            "Final training loss:  -20.837246335004895 dB\n",
            "Final test loss:  -20.83727741914357 dB\n",
            "Final training accuracy:  97.3 %\n",
            "Final test accuracy:  97.5 %\n"
          ]
        }
      ]
    },
    {
      "cell_type": "markdown",
      "source": [
        "v. Clasify each input to the binary output “digit is a 2” using a 0.5 threshold. Compute\n",
        "the final loss and final accuracy for both your training set and test set."
      ],
      "metadata": {
        "id": "mD8kt2tBPlcS"
      }
    },
    {
      "cell_type": "markdown",
      "source": [
        "Submit your trained weights to Autolab. Save your weights and bias to an hdf5 file. Use keys w\n",
        "and b for the weights and bias, respectively. w should be a length-784 numpy vector/array and\n",
        "b should be a numpy scalar."
      ],
      "metadata": {
        "id": "RmB9ssS5PqNs"
      }
    },
    {
      "cell_type": "code",
      "execution_count": null,
      "metadata": {
        "id": "s0BSUdCrhLsj"
      },
      "outputs": [],
      "source": [
        "print_file = 'outFile.hdf5'\n",
        "with h5py.File(print_file, 'w') as hf:\n",
        "    hf.create_dataset('w', data = np.asarray(w)) # Writing the weights in the file.\n",
        "    hf.create_dataset('b', data = np.float32(b)) # Writing the bias in the file."
      ]
    },
    {
      "cell_type": "markdown",
      "source": [
        "i. How did you determine a learning rate? What values did you try? What was your final value?\n",
        "\n",
        "**Answer: -** I tried the following learning rates- 0.01, 0.05, 0.1, 0.3, 0.5, 0.6, 0.65, 0.7, 0.8, 0.85 and 0.9. I observed that a higher learning rate resulted in a better accuracy as the amount of data required to update the weights (happens at the end of each epoch) are large in volume. Finally, I choose 0.85 as the optimal learning rate.\n",
        "\n",
        "ii. Describe the method you used to establish model convergence.\n",
        "\n",
        "**Answer: -** I used the equations (as is) which were given in the question. I calculated the loss of each epoch and appended it to a list. Moreover, I used the treshold condition of 0.5 in my code for the accuracy.  \n",
        "\n",
        "iii. What regularizers did you try? Specifically, how did each impact your model or improve its performance?\n",
        "\n",
        "**Answer: -** I used the following regularizer values- 0.01, 0.5, 0.6, 0.8, 0.9, 0.95 and 0.98. Interestingly, all of the above values resulted in the model's accuracy to decrease and the loss to increase. So, I ended up not using a regularizer.  \n"
      ],
      "metadata": {
        "id": "xhTyV-9WHymo"
      }
    }
  ],
  "metadata": {
    "kernelspec": {
      "display_name": "Python 3.8.13 ('ee541_work')",
      "language": "python",
      "name": "python3"
    },
    "language_info": {
      "codemirror_mode": {
        "name": "ipython",
        "version": 3
      },
      "file_extension": ".py",
      "mimetype": "text/x-python",
      "name": "python",
      "nbconvert_exporter": "python",
      "pygments_lexer": "ipython3",
      "version": "3.8.13"
    },
    "orig_nbformat": 4,
    "vscode": {
      "interpreter": {
        "hash": "8dcca3c8b0229e8a6e179af76b67aa72c573cff6cc13c13569ff6409ac9144cb"
      }
    },
    "colab": {
      "provenance": [],
      "collapsed_sections": []
    }
  },
  "nbformat": 4,
  "nbformat_minor": 0
}