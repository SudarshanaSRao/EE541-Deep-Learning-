{
  "cells": [
    {
      "cell_type": "markdown",
      "source": [
        "(c) Choose the configuration (activation and initial learning rate) that gave best validation accuracy. Train this for all 60,000 images = training + validation. Remember to apply a learning rate decay as before. After all 50 epochs are done test with the data in mnist testdata.hdf5 from the previous problem. Record the final test accuracy."
      ],
      "metadata": {
        "id": "t55YrfBdcigQ"
      }
    },
    {
      "cell_type": "code",
      "source": [
        "# Importing the necessary libraries. \n",
        "import h5py\n",
        "import math\n",
        "import numpy as np\n",
        "import matplotlib.pyplot as plt"
      ],
      "metadata": {
        "id": "ukDB3DkgcnQS"
      },
      "execution_count": null,
      "outputs": []
    },
    {
      "cell_type": "code",
      "source": [
        "# Extracting the data from the file.\n",
        "open_file = 'mnist_traindata.hdf5'\n",
        "with h5py.File(open_file, 'r') as columns:\n",
        "    file_datacols = np.array(columns)\n",
        "    print(file_datacols)"
      ],
      "metadata": {
        "id": "HocSdawMcqEq"
      },
      "execution_count": null,
      "outputs": []
    },
    {
      "cell_type": "code",
      "source": [
        "# Converting the data to an array.\n",
        "open_file = 'mnist_traindata.hdf5' # Training dataset.\n",
        "with h5py.File(open_file, 'r') as columns:\n",
        "    xdata = np.float32(np.array(columns['xdata']))\n",
        "    ydata = np.float32(np.array(columns['ydata']))\n",
        "print('Dimensions of xdata: ', xdata.shape)\n",
        "print('Dimensions of ydata: ', ydata.shape)\n",
        "\n",
        "open_file = 'mnist_testdata.hdf5' # Testing dataset.\n",
        "with h5py.File(open_file, 'r') as columns:\n",
        "    xdatatest = np.float32(np.array(columns['xdata']))\n",
        "    ydatatest = np.float32(np.array(columns['ydata']))\n",
        "\n",
        "print(\"The dimensions of xdataset: \", xdatatest.shape)"
      ],
      "metadata": {
        "id": "g-rz0s76c38b"
      },
      "execution_count": null,
      "outputs": []
    },
    {
      "cell_type": "code",
      "execution_count": null,
      "metadata": {
        "id": "flAle1eeUElc"
      },
      "outputs": [],
      "source": [
        "def ReLU(x):\n",
        "    y = np.zeros([len(x),])\n",
        "    \n",
        "    for i in range(len(x)):\n",
        "        \n",
        "        if x[i] < 0:\n",
        "            y[i] = 0\n",
        "        else:\n",
        "            y[i] = x[i]\n",
        "    \n",
        "    return y\n",
        "\n",
        "def cond_ReLU(x):\n",
        "    return (x > 0) * 1"
      ]
    },
    {
      "cell_type": "code",
      "source": [
        "def Soft_Max(x):\n",
        "    x -= np.max(x)\n",
        "    numerator = np.float32(np.exp(x))\n",
        "    denominator = np.sum(numerator, axis = 0)\n",
        "    prediction = numerator / denominator\n",
        "    \n",
        "    return prediction"
      ],
      "metadata": {
        "id": "F_N5Xt1NdBOs"
      },
      "execution_count": null,
      "outputs": []
    },
    {
      "cell_type": "code",
      "execution_count": null,
      "metadata": {
        "id": "aywF0gczUEld"
      },
      "outputs": [],
      "source": [
        "# Function parameter: w1, w2 and w3 -> weight values; b1, b2 and b3 -> bias values; batch_size -> batch for the epoch; learn_rate -> learning rate; x and y -> dataset elements.\n",
        "def ReLU_training(w1, w2, w3, b1, b2, b3, batch_size, learn_rate, x, y):\n",
        "    samples, data = x.shape\n",
        "    weights1 = np.zeros([w1.shape[0], w1.shape[1]])\n",
        "    weights2 = np.zeros([w2.shape[0], w2.shape[1]])\n",
        "    weights3 = np.zeros([w3.shape[0], w3.shape[1]])\n",
        "    bias1 = np.zeros([b1.shape[0],])\n",
        "    bias2 = np.zeros([b2.shape[0],])\n",
        "    bias3 = np.zeros([b3.shape[0],])\n",
        "    accuracy = 0\n",
        "\n",
        "    for i in range(samples):\n",
        "        xi = x[i]\n",
        "        # Activation function calculation:\n",
        "        act_relu1 = ReLU(np.matmul(w1, xi) + b1)\n",
        "        act_relu2 = ReLU(np.matmul(w2, act_relu1) + b2)\n",
        "        act_relu3 = Soft_Max(np.matmul(w3, act_relu2) + b3)\n",
        "        \n",
        "        if np.argmax(act_relu3) == np.argmax(y[i]):\n",
        "            accuracy += 1\n",
        "\n",
        "        # Computation of deltas:\n",
        "        delta_3 = act_relu3 - y[i]\n",
        "        weights3 = weights3 + np.outer(delta_3, act_relu2.T)\n",
        "        bias3 += delta_3\n",
        "        delta_2 = np.matmul(w3.T, delta_3) * cond_ReLU(act_relu2)\n",
        "        weights2 = weights2 + np.outer(delta_2, act_relu1.T)\n",
        "        bias2 += delta_2\n",
        "        delta_1 = np.matmul(w2.T, delta_2) * cond_ReLU(act_relu1)\n",
        "        weights1 = weights1 + np.outer(delta_1, xi.T)\n",
        "        bias1 += delta_1\n",
        "\n",
        "        if (i + 1) % batch_size == 0:\n",
        "            w1 -= learn_rate * (weights1 / batch_size)\n",
        "            w2 -= learn_rate * (weights2 / batch_size)\n",
        "            w3 -= learn_rate * (weights3 / batch_size)\n",
        "            b1 -= learn_rate * (bias1 / batch_size)\n",
        "            b2 -= learn_rate * (bias2 / batch_size)\n",
        "            b3 -= learn_rate * (bias3 / batch_size)\n",
        "            weights1 = np.zeros([w1.shape[0], w1.shape[1]])\n",
        "            weights2 = np.zeros([w2.shape[0], w2.shape[1]])\n",
        "            weights3 = np.zeros([w3.shape[0], w3.shape[1]])\n",
        "            bias1 = np.zeros([b1.shape[0],])\n",
        "            bias2 = np.zeros([b2.shape[0],])\n",
        "            bias3 = np.zeros([b3.shape[0],])\n",
        "\n",
        "    return w1, w2, w3, b1, b2, b3, accuracy / samples \n",
        "\n",
        "# Function parameter: w1, w2 and w3 -> weight values; b1, b2 and b3 -> bias values; x and y -> dataset elements.\n",
        "def ReLU_forwardpropagation(w1, w2, w3, b1, b2, b3, x, y):\n",
        "    samples, data = x.shape\n",
        "    accuracy = 0\n",
        "    \n",
        "    for i in range(samples):\n",
        "        xi = x[i]\n",
        "        # Activation function calculation:\n",
        "        act_relu1 = ReLU(np.matmul(w1, xi) + b1)\n",
        "        act_relu2 = ReLU(np.matmul(w2, act_relu1) + b2)\n",
        "        act_relu3 = Soft_Max(np.matmul(w3, act_relu2) + b3)\n",
        "\n",
        "        if np.argmax(y[i]) == np.argmax(act_relu3):\n",
        "            accuracy += 1\n",
        "\n",
        "    return accuracy / samples"
      ]
    },
    {
      "cell_type": "markdown",
      "source": [
        "The best network is ReLU with- learning rate of 0.05, batch size of 50, normally distributed weights and bias."
      ],
      "metadata": {
        "id": "d-jQYs-9fCyR"
      }
    },
    {
      "cell_type": "code",
      "execution_count": null,
      "metadata": {
        "id": "KMTcc6YSUElf"
      },
      "outputs": [],
      "source": [
        "epochRelu2 = 50\n",
        "learnrate_1 = 14\n",
        "learnrate_2 = 34\n",
        "batch_size = 50\n",
        "# Network configuration & parameter initialization: 2 layers with 200 neurons in the first layer and 100 neurons in the second layer.\n",
        "w1_Relu2 = np.random.normal(0, 0.001, [200, 784])\n",
        "w2_Relu2 = np.random.normal(0, 0.001, [100, 200])\n",
        "w3_Relu2 = np.random.normal(0, 0.001, [10, 100])\n",
        "b1_Relu2 = np.random.normal(0, 0.001, [200,])\n",
        "b2_Relu2 = np.random.normal(0, 0.001, [100,])\n",
        "b3_Relu2 = np.random.normal(0, 0.001, [10,])\n",
        "learnrate_Relu2 = 0.05\n",
        "training_accuracy_Relu2 = []\n",
        "\n",
        "for i in range(epochRelu2):\n",
        "    w1_Relu2, w2_Relu2, w3_Relu2, b1_Relu2, b2_Relu2, b3_Relu2, train_accuracy = ReLU_training(w1_Relu2, w2_Relu2, w3_Relu2, b1_Relu2, b2_Relu2, b3_Relu2, batch_size, learnrate_Relu2, xdata, ydata)\n",
        "\n",
        "    if i == learnrate_1 or i == learnrate_2: # Dividing the epoch value by 2 after 14th & 34th epoch.\n",
        "        learnrate_2 /= 2\n",
        "\n",
        "    training_accuracy_Relu2.append(train_accuracy)\n",
        "\n",
        "test_accuracy = ReLU_forwardpropagation(w1_Relu2, w2_Relu2, w3_Relu2, b1_Relu2, b2_Relu2, b3_Relu2, xdatatest, ydatatest)"
      ]
    },
    {
      "cell_type": "markdown",
      "source": [
        "• Final test accuracy for the best network"
      ],
      "metadata": {
        "id": "P2DfsLC9e_iq"
      }
    },
    {
      "cell_type": "code",
      "execution_count": null,
      "metadata": {
        "id": "aY41oH9rUElg",
        "outputId": "90c64255-077b-4b3a-9b17-d5867281f5d3"
      },
      "outputs": [
        {
          "name": "stdout",
          "output_type": "stream",
          "text": [
            "Final Train Accuracy: 1.0\n",
            "Final Test Accuracy: 0.9824\n"
          ]
        },
        {
          "data": {
            "image/png": "[encoded data removed]",
            "text/plain": [
              "<Figure size 640x480 with 1 Axes>"
            ]
          },
          "metadata": {},
          "output_type": "display_data"
        }
      ],
      "source": [
        "print(\"Final Train Accuracy:\", training_accuracy_Relu2[epochRelu2 - 1])\n",
        "print(\"Final Test Accuracy:\", test_accuracy)\n",
        "\n",
        "plt.xlabel(\"Epochs\")\n",
        "plt.ylabel(\"Accuracy\")\n",
        "plt.title(\"ReLU Train Accuracy with Learning Rate 0.05\")\n",
        "plt.plot(range(epochRelu2), training_accuracy_Relu2[epochRelu2 - 1])\n",
        "plt.show()"
      ]
    },
    {
      "cell_type": "markdown",
      "source": [
        "It is evident from the above graph that the selected network is the best among the lot as the train accuracy achieved is 100% and test accuracy is 98.24%"
      ],
      "metadata": {
        "id": "e6SJW-t1fjGa"
      }
    }
  ],
  "metadata": {
    "kernelspec": {
      "display_name": "Python 3.8.13 ('ee541_work')",
      "language": "python",
      "name": "python3"
    },
    "language_info": {
      "codemirror_mode": {
        "name": "ipython",
        "version": 3
      },
      "file_extension": ".py",
      "mimetype": "text/x-python",
      "name": "python",
      "nbconvert_exporter": "python",
      "pygments_lexer": "ipython3",
      "version": "3.8.13"
    },
    "orig_nbformat": 4,
    "vscode": {
      "interpreter": {
        "hash": "8dcca3c8b0229e8a6e179af76b67aa72c573cff6cc13c13569ff6409ac9144cb"
      }
    },
    "colab": {
      "provenance": [],
      "collapsed_sections": []
    }
  },
  "nbformat": 4,
  "nbformat_minor": 0
}